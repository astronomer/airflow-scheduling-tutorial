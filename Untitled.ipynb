{
 "cells": [
  {
   "cell_type": "code",
   "execution_count": 1,
   "metadata": {},
   "outputs": [],
   "source": [
    "from datetime import timedelta\n",
    "from typing import Optional\n",
    "\n",
    "from pendulum import Date, DateTime, Time, timezone\n",
    "\n",
    "# from airflow.plugins_manager import AirflowPlugin\n",
    "# from airflow.timetables.base import DagRunInfo, DataInterval, TimeRestriction, Timetable"
   ]
  },
  {
   "cell_type": "code",
   "execution_count": 5,
   "metadata": {},
   "outputs": [
    {
     "ename": "AttributeError",
     "evalue": "'function' object has no attribute 'weekday'",
     "output_type": "error",
     "traceback": [
      "\u001b[0;31m---------------------------------------------------------------------------\u001b[0m",
      "\u001b[0;31mAttributeError\u001b[0m                            Traceback (most recent call last)",
      "\u001b[0;32m<ipython-input-5-35a6b65bb7a3>\u001b[0m in \u001b[0;36m<module>\u001b[0;34m\u001b[0m\n\u001b[0;32m----> 1\u001b[0;31m \u001b[0mDateTime\u001b[0m\u001b[0;34m.\u001b[0m\u001b[0mnow\u001b[0m\u001b[0;34m.\u001b[0m\u001b[0mweekday\u001b[0m\u001b[0;34m(\u001b[0m\u001b[0;34m)\u001b[0m\u001b[0;34m\u001b[0m\u001b[0;34m\u001b[0m\u001b[0m\n\u001b[0m",
      "\u001b[0;31mAttributeError\u001b[0m: 'function' object has no attribute 'weekday'"
     ]
    }
   ],
   "source": [
    "DateTime.now.weekday()"
   ]
  },
  {
   "cell_type": "code",
   "execution_count": 40,
   "metadata": {},
   "outputs": [],
   "source": [
    "UTC = timezone(\"UTC\")"
   ]
  },
  {
   "cell_type": "code",
   "execution_count": 45,
   "metadata": {},
   "outputs": [],
   "source": [
    "def infer_data_interval(run_after: DateTime):\n",
    "    # Is day last of month?\n",
    "    days_until_end_of_month = run_after.end_of('month').day - run_after.day\n",
    "    # If it is the last day of the month, data interval is the current month\n",
    "    if days_until_end_of_month == 0:\n",
    "        start = run_after.start_of('month').replace(tzinfo=UTC)\n",
    "        end = run_after.end_of('month').replace(tzinfo=UTC)\n",
    "    # If it is not the last day of the month, data interval is the previous month\n",
    "    else:\n",
    "        start = run_after.subtract(months=1).start_of('month').replace(tzinfo=UTC)\n",
    "        end = run_after.subtract(months=1).end_of('month').replace(tzinfo=UTC)\n",
    "\n",
    "    print(days_until_end_of_month)\n",
    "    print(start)\n",
    "    print(end)"
   ]
  },
  {
   "cell_type": "code",
   "execution_count": 47,
   "metadata": {},
   "outputs": [
    {
     "name": "stdout",
     "output_type": "stream",
     "text": [
      "0\n",
      "2021-11-01T00:00:00+00:00\n",
      "2021-11-30T23:59:59.999999+00:00\n"
     ]
    }
   ],
   "source": [
    "infer_data_interval(run_after=DateTime(2021, 11, 30))"
   ]
  },
  {
   "cell_type": "code",
   "execution_count": 58,
   "metadata": {},
   "outputs": [],
   "source": [
    "def next_interval(next_run: DateTime):\n",
    "    next_start = next_run\n",
    "    if next_start.end_of('month').day - next_start.day == 0: # If earliest is end of month, run for that month\n",
    "        next_start = next_start.start_of('month').replace(tzinfo=UTC)\n",
    "        next_end = next_start.end_of('month').replace(tzinfo=UTC)\n",
    "    else:  # If next start is not the last day of the month, run for previous month\n",
    "        next_start = next_start.subtract(months=1).start_of('month').replace(tzinfo=UTC)\n",
    "        next_end = next_start.end_of('month').replace(tzinfo=UTC)\n",
    "    print(next_start)\n",
    "    print(next_end)"
   ]
  },
  {
   "cell_type": "code",
   "execution_count": 62,
   "metadata": {},
   "outputs": [
    {
     "name": "stdout",
     "output_type": "stream",
     "text": [
      "2021-09-01T00:00:00+00:00\n",
      "2021-09-30T23:59:59.999999+00:00\n"
     ]
    }
   ],
   "source": [
    "next_interval(next_run=DateTime(2021, 10, 1))"
   ]
  },
  {
   "cell_type": "code",
   "execution_count": null,
   "metadata": {},
   "outputs": [],
   "source": []
  }
 ],
 "metadata": {
  "kernelspec": {
   "display_name": "Python 3",
   "language": "python",
   "name": "python3"
  },
  "language_info": {
   "codemirror_mode": {
    "name": "ipython",
    "version": 3
   },
   "file_extension": ".py",
   "mimetype": "text/x-python",
   "name": "python",
   "nbconvert_exporter": "python",
   "pygments_lexer": "ipython3",
   "version": "3.9.4"
  }
 },
 "nbformat": 4,
 "nbformat_minor": 4
}
